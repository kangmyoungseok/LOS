{
 "cells": [
  {
   "cell_type": "code",
   "execution_count": 3,
   "metadata": {},
   "outputs": [
    {
     "name": "stdout",
     "output_type": "stream",
     "text": [
      "djfk"
     ]
    }
   ],
   "source": [
    "from worker import worker\n",
    "from multiprocessing import Pool\n",
    "if __name__=='__main__':\n",
    "    p = Pool()\n",
    "    with Pool(4) as p:\n",
    "        ret = p.map(worker,[i for i in range(1,5)])\n",
    "    for i in ret:\n",
    "        print(i,end='')\n",
    "         "
   ]
  }
 ],
 "metadata": {
  "interpreter": {
   "hash": "2017445a548f742d64dcb059c3b75282e74fed8cc15f4c420993e78f71bf7550"
  },
  "kernelspec": {
   "display_name": "Python 3.8.8 ('base')",
   "language": "python",
   "name": "python3"
  },
  "language_info": {
   "codemirror_mode": {
    "name": "ipython",
    "version": 3
   },
   "file_extension": ".py",
   "mimetype": "text/x-python",
   "name": "python",
   "nbconvert_exporter": "python",
   "pygments_lexer": "ipython3",
   "version": "3.8.8"
  },
  "orig_nbformat": 4
 },
 "nbformat": 4,
 "nbformat_minor": 2
}
